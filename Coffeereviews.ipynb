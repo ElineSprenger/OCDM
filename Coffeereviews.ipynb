{
 "cells": [
  {
   "cell_type": "code",
   "execution_count": 5,
   "id": "737d07bf-ba97-43f5-ab23-68caaf814e67",
   "metadata": {},
   "outputs": [
    {
     "name": "stdout",
     "output_type": "stream",
     "text": [
      "Requirement already satisfied: requests in /opt/anaconda3/lib/python3.12/site-packages (2.32.3)\n",
      "Requirement already satisfied: beautifulsoup4 in /opt/anaconda3/lib/python3.12/site-packages (4.12.3)\n",
      "Requirement already satisfied: selenium in /opt/anaconda3/lib/python3.12/site-packages (4.28.1)\n",
      "Requirement already satisfied: charset-normalizer<4,>=2 in /opt/anaconda3/lib/python3.12/site-packages (from requests) (3.3.2)\n",
      "Requirement already satisfied: idna<4,>=2.5 in /opt/anaconda3/lib/python3.12/site-packages (from requests) (3.7)\n",
      "Requirement already satisfied: urllib3<3,>=1.21.1 in /opt/anaconda3/lib/python3.12/site-packages (from requests) (2.2.3)\n",
      "Requirement already satisfied: certifi>=2017.4.17 in /opt/anaconda3/lib/python3.12/site-packages (from requests) (2024.12.14)\n",
      "Requirement already satisfied: soupsieve>1.2 in /opt/anaconda3/lib/python3.12/site-packages (from beautifulsoup4) (2.5)\n",
      "Requirement already satisfied: trio~=0.17 in /opt/anaconda3/lib/python3.12/site-packages (from selenium) (0.28.0)\n",
      "Requirement already satisfied: trio-websocket~=0.9 in /opt/anaconda3/lib/python3.12/site-packages (from selenium) (0.11.1)\n",
      "Requirement already satisfied: typing_extensions~=4.9 in /opt/anaconda3/lib/python3.12/site-packages (from selenium) (4.11.0)\n",
      "Requirement already satisfied: websocket-client~=1.8 in /opt/anaconda3/lib/python3.12/site-packages (from selenium) (1.8.0)\n",
      "Requirement already satisfied: attrs>=23.2.0 in /opt/anaconda3/lib/python3.12/site-packages (from trio~=0.17->selenium) (24.3.0)\n",
      "Requirement already satisfied: sortedcontainers in /opt/anaconda3/lib/python3.12/site-packages (from trio~=0.17->selenium) (2.4.0)\n",
      "Requirement already satisfied: outcome in /opt/anaconda3/lib/python3.12/site-packages (from trio~=0.17->selenium) (1.3.0.post0)\n",
      "Requirement already satisfied: sniffio>=1.3.0 in /opt/anaconda3/lib/python3.12/site-packages (from trio~=0.17->selenium) (1.3.0)\n",
      "Requirement already satisfied: wsproto>=0.14 in /opt/anaconda3/lib/python3.12/site-packages (from trio-websocket~=0.9->selenium) (1.2.0)\n",
      "Requirement already satisfied: pysocks!=1.5.7,<2.0,>=1.5.6 in /opt/anaconda3/lib/python3.12/site-packages (from urllib3[socks]<3,>=1.26->selenium) (1.7.1)\n",
      "Requirement already satisfied: h11<1,>=0.9.0 in /opt/anaconda3/lib/python3.12/site-packages (from wsproto>=0.14->trio-websocket~=0.9->selenium) (0.14.0)\n",
      "Note: you may need to restart the kernel to use updated packages.\n"
     ]
    }
   ],
   "source": [
    "pip install requests beautifulsoup4 selenium\n"
   ]
  },
  {
   "cell_type": "code",
   "execution_count": 77,
   "id": "b88e71d3-9f44-46e0-8fcd-5f2342c7662d",
   "metadata": {},
   "outputs": [
    {
     "name": "stdout",
     "output_type": "stream",
     "text": [
      "Coffee Review - The World's Leading Coffee Guide\n"
     ]
    }
   ],
   "source": [
    "import requests\n",
    "from bs4 import BeautifulSoup\n",
    "\n",
    "url = 'https://www.coffeereview.com/review/'\n",
    "\n",
    "# Set a user-agent to mimic a real browser\n",
    "headers = {\n",
    "    'User-Agent': 'Mozilla/5.0 (Windows NT 10.0; Win64; x64) AppleWebKit/537.36 (KHTML, like Gecko) Chrome/91.0.4472.124 Safari/537.36'\n",
    "}\n",
    "\n",
    "response = requests.get(url, headers=headers)\n",
    "\n",
    "if response.status_code == 200:\n",
    "    html_content = response.text\n",
    "    # Parse the HTML content with BeautifulSoup\n",
    "    soup = BeautifulSoup(html_content, 'html.parser')\n",
    "    # Extract and print the title of the page\n",
    "    print(soup.title.text)\n",
    "else:\n",
    "    print(f\"Fout bij het ophalen van de pagina: {response.status_code}\")"
   ]
  },
  {
   "cell_type": "code",
   "execution_count": 97,
   "id": "de9cbf22-9f20-4d20-8f50-434538168299",
   "metadata": {},
   "outputs": [
    {
     "name": "stdout",
     "output_type": "stream",
     "text": [
      "<h2 class=\"review-title\"><a href=\"https://www.coffeereview.com/review/forty-six/\" style=\"text-decoration: none;\" title=\"Permanent Link To Forty-Six\">Forty-Six</a></h2>\n"
     ]
    }
   ],
   "source": [
    "#naar individuele review\n",
    "coffee_review = soup.find(class_='review-title')\n",
    "print(coffee_review)\n",
    "\n",
    "\n",
    "    "
   ]
  },
  {
   "cell_type": "code",
   "execution_count": 135,
   "id": "eb518a6c-1853-4499-b9cd-fb3f9127a187",
   "metadata": {},
   "outputs": [
    {
     "name": "stdout",
     "output_type": "stream",
     "text": [
      "Review Link: https://www.coffeereview.com/review/forty-six/\n"
     ]
    }
   ],
   "source": [
    "coffee_review = soup.find(class_='review-title')\n",
    "review_link = coffee_review.find('a')['href']  # Extracting the link from the href attribute\n",
    "print(f\"Review Link: {review_link}\")"
   ]
  },
  {
   "cell_type": "code",
   "execution_count": null,
   "id": "f212ee14-1633-4b60-bb14-62d1c8414d08",
   "metadata": {},
   "outputs": [],
   "source": [
    "#Hiermee kunnen we van review naar specifieke reviews"
   ]
  },
  {
   "cell_type": "code",
   "execution_count": 15,
   "id": "0f4d0020-e818-4372-b529-16d2220cbe30",
   "metadata": {},
   "outputs": [
    {
     "name": "stdout",
     "output_type": "stream",
     "text": [
      "Coffee Review - The World's Leading Coffee Guide\n",
      "Coffee Review Links:\n",
      "https://www.coffeereview.com/review/forty-six/\n",
      "https://www.coffeereview.com/review/rwanda-murundo-peoples-farm/\n",
      "https://www.coffeereview.com/review/kenya-11/\n",
      "https://www.coffeereview.com/review/santafe-colombia/\n",
      "https://www.coffeereview.com/review/ethiopia-5/\n",
      "https://www.coffeereview.com/review/ethiopia-yirgacheffe-29/\n",
      "https://www.coffeereview.com/review/ethiopia-kirite/\n",
      "https://www.coffeereview.com/review/colombia-san-roque/\n",
      "https://www.coffeereview.com/review/sumatra-17/\n",
      "https://www.coffeereview.com/review/ethiopia-fancy/\n",
      "https://www.coffeereview.com/review/sumatra-16/\n",
      "https://www.coffeereview.com/review/pikes-place-roast/\n",
      "https://www.coffeereview.com/review/colombia-san-martin-bourbon-aji-star-fruit-peach-honey/\n",
      "https://www.coffeereview.com/review/taiwan-coe-3-alishan-zhou-zhu-yuan-geisha-natural/\n",
      "https://www.coffeereview.com/review/taiwan-coe9-alishan-zhuo-wu-farm-geisha-honey/\n",
      "https://www.coffeereview.com/review/las-margaritas-colombia-sudan-rume-natural/\n",
      "https://www.coffeereview.com/review/yabitu-koba-ethiopia-2/\n",
      "https://www.coffeereview.com/review/pantan-musara-sumatra-4/\n",
      "https://www.coffeereview.com/review/ethiopia-yirgacheffe-misty-valley-aricha-washed-g1/\n",
      "https://www.coffeereview.com/review/kenya-kirinyaga-karimikui-factory-aa-top-washed/\n"
     ]
    }
   ],
   "source": [
    "import requests\n",
    "from bs4 import BeautifulSoup\n",
    "\n",
    "url = 'https://www.coffeereview.com/review/'\n",
    "\n",
    "# Set a user-agent to mimic a real browser\n",
    "headers = {\n",
    "    'User-Agent': 'Mozilla/5.0 (Windows NT 10.0; Win64; x64) AppleWebKit/537.36 (KHTML, like Gecko) Chrome/91.0.4472.124 Safari/537.36'\n",
    "}\n",
    "\n",
    "response = requests.get(url, headers=headers)\n",
    "\n",
    "if response.status_code == 200:\n",
    "    html_content = response.text\n",
    "    # Parse the HTML content with BeautifulSoup\n",
    "    soup = BeautifulSoup(html_content, 'html.parser')\n",
    "    # Extract and print the title of the page\n",
    "    print(soup.title.text)\n",
    "    \n",
    "    # Find all coffee reviews on the page using the 'review-title' class\n",
    "    coffee_reviews = soup.find_all(class_='review-title')\n",
    "    \n",
    "    # Extract the links for all coffee reviews\n",
    "    coffee_links = []\n",
    "    for review in coffee_reviews:\n",
    "        # Find the <a> tag inside the review and extract the href attribute\n",
    "        link = review.find('a')['href']\n",
    "        coffee_links.append(link)\n",
    "    \n",
    "    # Print the links of all coffee reviews\n",
    "    print(\"Coffee Review Links:\")\n",
    "    for link in coffee_links:\n",
    "        print(link)\n",
    "\n",
    "else:\n",
    "    print(f\"Failed to retrieve the page: {response.status_code}\")\n"
   ]
  }
 ],
 "metadata": {
  "kernelspec": {
   "display_name": "Python [conda env:base] *",
   "language": "python",
   "name": "conda-base-py"
  },
  "language_info": {
   "codemirror_mode": {
    "name": "ipython",
    "version": 3
   },
   "file_extension": ".py",
   "mimetype": "text/x-python",
   "name": "python",
   "nbconvert_exporter": "python",
   "pygments_lexer": "ipython3",
   "version": "3.12.7"
  }
 },
 "nbformat": 4,
 "nbformat_minor": 5
}
