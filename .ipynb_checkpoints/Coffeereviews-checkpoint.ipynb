{
 "cells": [
  {
   "cell_type": "code",
   "execution_count": 77,
   "id": "b88e71d3-9f44-46e0-8fcd-5f2342c7662d",
   "metadata": {},
   "outputs": [
    {
     "name": "stdout",
     "output_type": "stream",
     "text": [
      "Coffee Review - The World's Leading Coffee Guide\n"
     ]
    }
   ],
   "source": [
    "import requests\n",
    "from bs4 import BeautifulSoup\n",
    "\n",
    "url = 'https://www.coffeereview.com/review/'\n",
    "\n",
    "# Set a user-agent to mimic a real browser\n",
    "headers = {\n",
    "    'User-Agent': 'Mozilla/5.0 (Windows NT 10.0; Win64; x64) AppleWebKit/537.36 (KHTML, like Gecko) Chrome/91.0.4472.124 Safari/537.36'\n",
    "}\n",
    "\n",
    "response = requests.get(url, headers=headers)\n",
    "\n",
    "if response.status_code == 200:\n",
    "    html_content = response.text\n",
    "    # Parse the HTML content with BeautifulSoup\n",
    "    soup = BeautifulSoup(html_content, 'html.parser')\n",
    "    # Extract and print the title of the page\n",
    "    print(soup.title.text)\n",
    "else:\n",
    "    print(f\"Fout bij het ophalen van de pagina: {response.status_code}\")"
   ]
  },
  {
   "cell_type": "code",
   "execution_count": 97,
   "id": "de9cbf22-9f20-4d20-8f50-434538168299",
   "metadata": {},
   "outputs": [
    {
     "name": "stdout",
     "output_type": "stream",
     "text": [
      "<h2 class=\"review-title\"><a href=\"https://www.coffeereview.com/review/forty-six/\" style=\"text-decoration: none;\" title=\"Permanent Link To Forty-Six\">Forty-Six</a></h2>\n"
     ]
    }
   ],
   "source": [
    "#naar individuele review\n",
    "coffee_review = soup.find(class_='review-title')\n",
    "print(coffee_review)\n",
    "\n",
    "\n",
    "    "
   ]
  },
  {
   "cell_type": "code",
   "execution_count": 135,
   "id": "eb518a6c-1853-4499-b9cd-fb3f9127a187",
   "metadata": {},
   "outputs": [
    {
     "name": "stdout",
     "output_type": "stream",
     "text": [
      "Review Link: https://www.coffeereview.com/review/forty-six/\n"
     ]
    }
   ],
   "source": [
    "coffee_review = soup.find(class_='review-title')\n",
    "review_link = coffee_review.find('a')['href']  # Extracting the link from the href attribute\n",
    "print(f\"Review Link: {review_link}\")"
   ]
  },
  {
   "cell_type": "code",
   "execution_count": null,
   "id": "f212ee14-1633-4b60-bb14-62d1c8414d08",
   "metadata": {},
   "outputs": [],
   "source": [
    "#Hiermee kunnen we van review naar specifieke reviews"
   ]
  },
  {
   "cell_type": "code",
   "execution_count": 15,
   "id": "0f4d0020-e818-4372-b529-16d2220cbe30",
   "metadata": {},
   "outputs": [
    {
     "name": "stdout",
     "output_type": "stream",
     "text": [
      "Coffee Review - The World's Leading Coffee Guide\n",
      "Coffee Review Links:\n",
      "https://www.coffeereview.com/review/forty-six/\n",
      "https://www.coffeereview.com/review/rwanda-murundo-peoples-farm/\n",
      "https://www.coffeereview.com/review/kenya-11/\n",
      "https://www.coffeereview.com/review/santafe-colombia/\n",
      "https://www.coffeereview.com/review/ethiopia-5/\n",
      "https://www.coffeereview.com/review/ethiopia-yirgacheffe-29/\n",
      "https://www.coffeereview.com/review/ethiopia-kirite/\n",
      "https://www.coffeereview.com/review/colombia-san-roque/\n",
      "https://www.coffeereview.com/review/sumatra-17/\n",
      "https://www.coffeereview.com/review/ethiopia-fancy/\n",
      "https://www.coffeereview.com/review/sumatra-16/\n",
      "https://www.coffeereview.com/review/pikes-place-roast/\n",
      "https://www.coffeereview.com/review/colombia-san-martin-bourbon-aji-star-fruit-peach-honey/\n",
      "https://www.coffeereview.com/review/taiwan-coe-3-alishan-zhou-zhu-yuan-geisha-natural/\n",
      "https://www.coffeereview.com/review/taiwan-coe9-alishan-zhuo-wu-farm-geisha-honey/\n",
      "https://www.coffeereview.com/review/las-margaritas-colombia-sudan-rume-natural/\n",
      "https://www.coffeereview.com/review/yabitu-koba-ethiopia-2/\n",
      "https://www.coffeereview.com/review/pantan-musara-sumatra-4/\n",
      "https://www.coffeereview.com/review/ethiopia-yirgacheffe-misty-valley-aricha-washed-g1/\n",
      "https://www.coffeereview.com/review/kenya-kirinyaga-karimikui-factory-aa-top-washed/\n"
     ]
    }
   ],
   "source": [
    "import requests\n",
    "from bs4 import BeautifulSoup\n",
    "\n",
    "url = 'https://www.coffeereview.com/review/'\n",
    "\n",
    "# Set a user-agent to mimic a real browser\n",
    "headers = {\n",
    "    'User-Agent': 'Mozilla/5.0 (Windows NT 10.0; Win64; x64) AppleWebKit/537.36 (KHTML, like Gecko) Chrome/91.0.4472.124 Safari/537.36'\n",
    "}\n",
    "\n",
    "response = requests.get(url, headers=headers)\n",
    "\n",
    "if response.status_code == 200:\n",
    "    html_content = response.text\n",
    "    # Parse the HTML content with BeautifulSoup\n",
    "    soup = BeautifulSoup(html_content, 'html.parser')\n",
    "    # Extract and print the title of the page\n",
    "    print(soup.title.text)\n",
    "    \n",
    "    # Find all coffee reviews on the page using the 'review-title' class\n",
    "    coffee_reviews = soup.find_all(class_='review-title')\n",
    "    \n",
    "    # Extract the links for all coffee reviews\n",
    "    coffee_links = []\n",
    "    for review in coffee_reviews:\n",
    "        # Find the <a> tag inside the review and extract the href attribute\n",
    "        link = review.find('a')['href']\n",
    "        coffee_links.append(link)\n",
    "    \n",
    "    # Print the links of all coffee reviews\n",
    "    print(\"Coffee Review Links:\")\n",
    "    for link in coffee_links:\n",
    "        print(link)\n",
    "\n",
    "else:\n",
    "    print(f\"Failed to retrieve the page: {response.status_code}\")\n"
   ]
  },
  {
   "cell_type": "markdown",
   "id": "509a56ef-416c-4e89-bd3c-382679b5cf3d",
   "metadata": {},
   "source": [
    "# get ratings from coffee "
   ]
  },
  {
   "cell_type": "code",
   "execution_count": 39,
   "id": "9ed5e861-5170-4460-890a-b47238cfc164",
   "metadata": {},
   "outputs": [],
   "source": [
    "#load packages\n",
    "import requests\n",
    "from bs4 import BeautifulSoup\n",
    "import json\n",
    "#setup requests function with example coffee\n",
    "url = 'https://www.coffeereview.com/review/ethiopia-agaro-duromina-2/'\n",
    "headers = {\n",
    "    'User-Agent': 'Mozilla/5.0 (Windows NT 10.0; Win64; x64) AppleWebKit/537.36 (KHTML, like Gecko) Chrome/91.0.4472.124 Safari/537.36'\n",
    "}\n",
    "response = requests.get(url, headers=headers)\n",
    "#translate html to text\n",
    "if response.status_code == 200:\n",
    "    html_content = response.text\n",
    "# Parse the HTML content with BeautifulSoup\n",
    "    soup = BeautifulSoup(html_content, 'html.parser')\n",
    "get_table = soup.find(class_=\"row row-2\").find(class_=\"column col-2\").find_all(\"tr\")\n",
    "# Locate the specific table rows containing the review information\n",
    "table_rows = soup.find_all(\"tr\")\n",
    "#create coffee_data object to store information\n",
    "coffee_data = {}\n",
    "#get data in a new json file \"coffee.json\" and close it\n",
    "f = open('coffee.json', 'a')\n",
    "for row in table_rows:\n",
    "    columns = row.find_all(\"td\")\n",
    "    if len(columns) == 2:  # Ensure the row has two columns\n",
    "        label = columns[0].text.strip().replace(\":\",\"\")\n",
    "        value = columns[1].text.strip()\n",
    "        coffee_data[label] = value\n",
    "f.write(json.dumps(coffee_data)+'\\n')\n",
    "f.close()"
   ]
  },
  {
   "cell_type": "code",
   "execution_count": null,
   "id": "90eec45a-fef7-4736-977c-e6e3c74e12e2",
   "metadata": {},
   "outputs": [],
   "source": []
  }
 ],
 "metadata": {
  "kernelspec": {
   "display_name": "Python [conda env:base] *",
   "language": "python",
   "name": "conda-base-py"
  },
  "language_info": {
   "codemirror_mode": {
    "name": "ipython",
    "version": 3
   },
   "file_extension": ".py",
   "mimetype": "text/x-python",
   "name": "python",
   "nbconvert_exporter": "python",
   "pygments_lexer": "ipython3",
   "version": "3.12.7"
  }
 },
 "nbformat": 4,
 "nbformat_minor": 5
}
